{
 "cells": [
  {
   "cell_type": "markdown",
   "id": "illegal-breast",
   "metadata": {},
   "source": [
    "# TinyDB"
   ]
  },
  {
   "cell_type": "code",
   "execution_count": 1,
   "id": "smaller-thanksgiving",
   "metadata": {},
   "outputs": [],
   "source": [
    "from tinydb import TinyDB, Query"
   ]
  },
  {
   "cell_type": "code",
   "execution_count": 2,
   "id": "inside-brain",
   "metadata": {},
   "outputs": [],
   "source": [
    "# Créer/Ouvrir une base de donnée TinyDB\n",
    "db = TinyDB(\"101-tinydb.json\")"
   ]
  },
  {
   "cell_type": "code",
   "execution_count": 3,
   "id": "local-farming",
   "metadata": {},
   "outputs": [
    {
     "data": {
      "text/plain": [
       "1"
      ]
     },
     "execution_count": 3,
     "metadata": {},
     "output_type": "execute_result"
    }
   ],
   "source": [
    "# Insérer un enregistrement dans la BD\n",
    "db.insert({\"firstname\": \"Sébastien\", \"lastname\": \"Verbois\", \"children\": 3})"
   ]
  },
  {
   "cell_type": "code",
   "execution_count": 4,
   "id": "listed-serum",
   "metadata": {},
   "outputs": [
    {
     "data": {
      "text/plain": [
       "2"
      ]
     },
     "execution_count": 4,
     "metadata": {},
     "output_type": "execute_result"
    }
   ],
   "source": [
    "# Insérer un autre enregistrement dans la BD\n",
    "db.insert({\"firstname\": \"Alain\", \"lastname\": \"Meurant\", \"children\": 3})"
   ]
  },
  {
   "cell_type": "code",
   "execution_count": 5,
   "id": "medium-width",
   "metadata": {},
   "outputs": [
    {
     "data": {
      "text/plain": [
       "[{'firstname': 'Sébastien', 'lastname': 'Verbois', 'children': 3},\n",
       " {'firstname': 'Alain', 'lastname': 'Meurant', 'children': 3}]"
      ]
     },
     "execution_count": 5,
     "metadata": {},
     "output_type": "execute_result"
    }
   ],
   "source": [
    "# Récupérer l'ensemble des enregistrements\n",
    "db.all()"
   ]
  },
  {
   "cell_type": "code",
   "execution_count": 6,
   "id": "focal-nursery",
   "metadata": {},
   "outputs": [],
   "source": [
    "# Créer une requète pour la recherche\n",
    "User = Query()"
   ]
  },
  {
   "cell_type": "code",
   "execution_count": 7,
   "id": "intermediate-azerbaijan",
   "metadata": {},
   "outputs": [
    {
     "data": {
      "text/plain": [
       "[{'firstname': 'Sébastien', 'lastname': 'Verbois', 'children': 3}]"
      ]
     },
     "execution_count": 7,
     "metadata": {},
     "output_type": "execute_result"
    }
   ],
   "source": [
    "db.search(User.lastname == \"Verbois\")"
   ]
  },
  {
   "cell_type": "code",
   "execution_count": 8,
   "id": "patent-policy",
   "metadata": {},
   "outputs": [
    {
     "data": {
      "text/plain": [
       "[{'firstname': 'Sébastien', 'lastname': 'Verbois', 'children': 3},\n",
       " {'firstname': 'Alain', 'lastname': 'Meurant', 'children': 3}]"
      ]
     },
     "execution_count": 8,
     "metadata": {},
     "output_type": "execute_result"
    }
   ],
   "source": [
    "db.search(User.children == 3)"
   ]
  },
  {
   "cell_type": "code",
   "execution_count": 9,
   "id": "executed-ending",
   "metadata": {},
   "outputs": [],
   "source": [
    "# Effacer l'ensemble des données\n",
    "db.truncate()"
   ]
  },
  {
   "cell_type": "code",
   "execution_count": null,
   "id": "appreciated-monthly",
   "metadata": {},
   "outputs": [],
   "source": []
  }
 ],
 "metadata": {
  "kernelspec": {
   "display_name": "Python 3",
   "language": "python",
   "name": "python3"
  },
  "language_info": {
   "codemirror_mode": {
    "name": "ipython",
    "version": 3
   },
   "file_extension": ".py",
   "mimetype": "text/x-python",
   "name": "python",
   "nbconvert_exporter": "python",
   "pygments_lexer": "ipython3",
   "version": "3.8.7"
  }
 },
 "nbformat": 4,
 "nbformat_minor": 5
}
