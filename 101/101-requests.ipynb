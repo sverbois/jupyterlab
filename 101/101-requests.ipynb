{
 "cells": [
  {
   "cell_type": "markdown",
   "metadata": {},
   "source": [
    "# La librairie *requests*\n",
    "\n",
    "## Documentation\n",
    "\n",
    "- https://requests.readthedocs.io"
   ]
  },
  {
   "cell_type": "markdown",
   "metadata": {},
   "source": [
    "## GET request"
   ]
  },
  {
   "cell_type": "code",
   "execution_count": 1,
   "metadata": {},
   "outputs": [
    {
     "name": "stdout",
     "output_type": "stream",
     "text": [
      "2.25.1\n"
     ]
    }
   ],
   "source": [
    "import requests\n",
    "import pprint\n",
    "print(requests.__version__)"
   ]
  },
  {
   "cell_type": "code",
   "execution_count": 2,
   "metadata": {},
   "outputs": [
    {
     "name": "stdout",
     "output_type": "stream",
     "text": [
      "<class 'str'>\n",
      "<class 'dict'>\n"
     ]
    }
   ],
   "source": [
    "response = requests.get(\"http://api.open-notify.org/astros.json\")\n",
    "rtext = response.text\n",
    "rjson = response.json()\n",
    "print(type(rtext))\n",
    "print(type(rjson))"
   ]
  },
  {
   "cell_type": "code",
   "execution_count": 3,
   "metadata": {},
   "outputs": [
    {
     "name": "stdout",
     "output_type": "stream",
     "text": [
      "{'message': 'success',\n",
      " 'number': 7,\n",
      " 'people': [{'craft': 'ISS', 'name': 'Sergey Ryzhikov'},\n",
      "            {'craft': 'ISS', 'name': 'Kate Rubins'},\n",
      "            {'craft': 'ISS', 'name': 'Sergey Kud-Sverchkov'},\n",
      "            {'craft': 'ISS', 'name': 'Mike Hopkins'},\n",
      "            {'craft': 'ISS', 'name': 'Victor Glover'},\n",
      "            {'craft': 'ISS', 'name': 'Shannon Walker'},\n",
      "            {'craft': 'ISS', 'name': 'Soichi Noguchi'}]}\n"
     ]
    }
   ],
   "source": [
    "pprint.pprint(rjson)"
   ]
  },
  {
   "cell_type": "code",
   "execution_count": 4,
   "metadata": {},
   "outputs": [
    {
     "name": "stdout",
     "output_type": "stream",
     "text": [
      "Sergey Ryzhikov\n",
      "Kate Rubins\n",
      "Sergey Kud-Sverchkov\n",
      "Mike Hopkins\n",
      "Victor Glover\n",
      "Shannon Walker\n",
      "Soichi Noguchi\n"
     ]
    }
   ],
   "source": [
    "for p in rjson['people']:\n",
    "    print(p['name'])"
   ]
  },
  {
   "cell_type": "code",
   "execution_count": null,
   "metadata": {},
   "outputs": [],
   "source": []
  }
 ],
 "metadata": {
  "kernelspec": {
   "display_name": "Python 3",
   "language": "python",
   "name": "python3"
  },
  "language_info": {
   "codemirror_mode": {
    "name": "ipython",
    "version": 3
   },
   "file_extension": ".py",
   "mimetype": "text/x-python",
   "name": "python",
   "nbconvert_exporter": "python",
   "pygments_lexer": "ipython3",
   "version": "3.8.7"
  }
 },
 "nbformat": 4,
 "nbformat_minor": 4
}
