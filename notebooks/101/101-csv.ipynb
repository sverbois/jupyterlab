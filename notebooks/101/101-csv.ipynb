{
 "cells": [
  {
   "cell_type": "markdown",
   "id": "assisted-resolution",
   "metadata": {},
   "source": [
    "# CSV files in Python\n",
    "\n",
    "- CSV library : https://docs.python.org/fr/3.8/library/csv.html\n",
    "- Exemples : https://docs.python.org/fr/3.8/library/csv.html#examples\n",
    "- RFC : https://tools.ietf.org/html/rfc4180.html"
   ]
  },
  {
   "cell_type": "code",
   "execution_count": 1,
   "id": "beneficial-alexander",
   "metadata": {},
   "outputs": [],
   "source": [
    "import csv"
   ]
  },
  {
   "cell_type": "markdown",
   "id": "outdoor-heather",
   "metadata": {},
   "source": [
    "## Read CSV files"
   ]
  },
  {
   "cell_type": "markdown",
   "id": "american-electronics",
   "metadata": {},
   "source": [
    "### CSV files are text files"
   ]
  },
  {
   "cell_type": "code",
   "execution_count": 2,
   "id": "signed-sweet",
   "metadata": {},
   "outputs": [
    {
     "name": "stdout",
     "output_type": "stream",
     "text": [
      "Sébastien,Verbois,1971-06-27,Durnal\n",
      "\n",
      "Alain,Meurant,1961-01-31,Saint-Vaast\n"
     ]
    }
   ],
   "source": [
    "with open(\"101-csv-input.csv\") as f:\n",
    "    for row in f:\n",
    "        print(row)"
   ]
  },
  {
   "cell_type": "markdown",
   "id": "offshore-luxury",
   "metadata": {},
   "source": [
    "### CSV row as list"
   ]
  },
  {
   "cell_type": "code",
   "execution_count": 3,
   "id": "nutritional-minute",
   "metadata": {},
   "outputs": [
    {
     "name": "stdout",
     "output_type": "stream",
     "text": [
      "['Sébastien', 'Verbois', '1971-06-27', 'Durnal']\n",
      "['Alain', 'Meurant', '1961-01-31', 'Saint-Vaast']\n"
     ]
    }
   ],
   "source": [
    "with open(\"101-csv-input.csv\", newline=\"\") as f:\n",
    "    reader = csv.reader(f)\n",
    "    for row in reader:\n",
    "        print(row)"
   ]
  },
  {
   "cell_type": "markdown",
   "id": "aggressive-browser",
   "metadata": {},
   "source": [
    "### CSV row as dict"
   ]
  },
  {
   "cell_type": "code",
   "execution_count": 4,
   "id": "suitable-dutch",
   "metadata": {},
   "outputs": [
    {
     "name": "stdout",
     "output_type": "stream",
     "text": [
      "{'first': 'Sébastien', 'last': 'Verbois', 'birth': '1971-06-27', 'city': 'Durnal'}\n",
      "{'first': 'Alain', 'last': 'Meurant', 'birth': '1961-01-31', 'city': 'Saint-Vaast'}\n"
     ]
    }
   ],
   "source": [
    "with open(\"101-csv-input.csv\", newline='') as f:\n",
    "    fieldnames = ['first', 'last', 'birth', 'city']\n",
    "    reader = csv.DictReader(f, fieldnames=fieldnames)\n",
    "    for row in reader:\n",
    "        print(row)"
   ]
  },
  {
   "cell_type": "code",
   "execution_count": 5,
   "id": "biological-rider",
   "metadata": {},
   "outputs": [
    {
     "name": "stdout",
     "output_type": "stream",
     "text": [
      "{'firstname': 'Sébastien', 'lastname': 'Verbois', 'birthday': '1971-06-27', 'town': 'Durnal'}\n",
      "{'firstname': 'Alain', 'lastname': 'Meurant', 'birthday': '1961-01-31', 'town': 'Saint-Vaast'}\n"
     ]
    }
   ],
   "source": [
    "with open(\"101-csv-input-with-header.csv\", newline='') as f:\n",
    "    reader = csv.DictReader(f)\n",
    "    for row in reader:\n",
    "        print(row)"
   ]
  },
  {
   "cell_type": "markdown",
   "id": "arbitrary-assault",
   "metadata": {},
   "source": [
    "## Write CSV files"
   ]
  },
  {
   "cell_type": "code",
   "execution_count": 6,
   "id": "educational-employer",
   "metadata": {},
   "outputs": [],
   "source": [
    "with open('101-csv-output.csv', 'w', newline='') as f:\n",
    "    fieldnames = ['firstname', 'lastname']\n",
    "    writer = csv.DictWriter(f, fieldnames=fieldnames)\n",
    "    writer.writeheader()\n",
    "    writer.writerow({'firstname': 'Sébastien', 'lastname': 'Verbois'})\n",
    "    writer.writerow({'firstname': 'Alain', 'lastname': 'Meurant'})"
   ]
  }
 ],
 "metadata": {
  "kernelspec": {
   "display_name": "Python 3 (ipykernel)",
   "language": "python",
   "name": "python3"
  },
  "language_info": {
   "codemirror_mode": {
    "name": "ipython",
    "version": 3
   },
   "file_extension": ".py",
   "mimetype": "text/x-python",
   "name": "python",
   "nbconvert_exporter": "python",
   "pygments_lexer": "ipython3",
   "version": "3.9.7"
  }
 },
 "nbformat": 4,
 "nbformat_minor": 5
}
