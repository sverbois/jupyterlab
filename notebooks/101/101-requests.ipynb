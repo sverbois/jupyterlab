{
 "cells": [
  {
   "cell_type": "markdown",
   "metadata": {},
   "source": [
    "# La librairie *requests*\n",
    "\n",
    "## Documentation\n",
    "\n",
    "- https://requests.readthedocs.io"
   ]
  },
  {
   "cell_type": "markdown",
   "metadata": {},
   "source": [
    "## GET request"
   ]
  },
  {
   "cell_type": "code",
   "execution_count": 1,
   "metadata": {},
   "outputs": [
    {
     "name": "stdout",
     "output_type": "stream",
     "text": [
      "2.26.0\n"
     ]
    }
   ],
   "source": [
    "import pprint\n",
    "\n",
    "import requests\n",
    "\n",
    "print(requests.__version__)"
   ]
  },
  {
   "cell_type": "code",
   "execution_count": 2,
   "metadata": {},
   "outputs": [
    {
     "name": "stdout",
     "output_type": "stream",
     "text": [
      "<class 'str'>\n",
      "<class 'dict'>\n"
     ]
    }
   ],
   "source": [
    "response = requests.get(\"http://api.open-notify.org/astros.json\")\n",
    "rtext = response.text\n",
    "rjson = response.json()\n",
    "print(type(rtext))\n",
    "print(type(rjson))"
   ]
  },
  {
   "cell_type": "code",
   "execution_count": 3,
   "metadata": {},
   "outputs": [
    {
     "name": "stdout",
     "output_type": "stream",
     "text": [
      "{'message': 'success',\n",
      " 'number': 10,\n",
      " 'people': [{'craft': 'ISS', 'name': 'Mark Vande Hei'},\n",
      "            {'craft': 'ISS', 'name': 'Pyotr Dubrov'},\n",
      "            {'craft': 'ISS', 'name': 'Anton Shkaplerov'},\n",
      "            {'craft': 'Shenzhou 13', 'name': 'Zhai Zhigang'},\n",
      "            {'craft': 'Shenzhou 13', 'name': 'Wang Yaping'},\n",
      "            {'craft': 'Shenzhou 13', 'name': 'Ye Guangfu'},\n",
      "            {'craft': 'ISS', 'name': 'Raja Chari'},\n",
      "            {'craft': 'ISS', 'name': 'Tom Marshburn'},\n",
      "            {'craft': 'ISS', 'name': 'Kayla Barron'},\n",
      "            {'craft': 'ISS', 'name': 'Matthias Maurer'}]}\n"
     ]
    }
   ],
   "source": [
    "pprint.pprint(rjson)"
   ]
  },
  {
   "cell_type": "code",
   "execution_count": 4,
   "metadata": {},
   "outputs": [
    {
     "name": "stdout",
     "output_type": "stream",
     "text": [
      "Mark Vande Hei\n",
      "Pyotr Dubrov\n",
      "Anton Shkaplerov\n",
      "Zhai Zhigang\n",
      "Wang Yaping\n",
      "Ye Guangfu\n",
      "Raja Chari\n",
      "Tom Marshburn\n",
      "Kayla Barron\n",
      "Matthias Maurer\n"
     ]
    }
   ],
   "source": [
    "for p in rjson[\"people\"]:\n",
    "    print(p[\"name\"])"
   ]
  },
  {
   "cell_type": "code",
   "execution_count": null,
   "metadata": {},
   "outputs": [],
   "source": []
  }
 ],
 "metadata": {
  "kernelspec": {
   "display_name": "Python 3 (ipykernel)",
   "language": "python",
   "name": "python3"
  },
  "language_info": {
   "codemirror_mode": {
    "name": "ipython",
    "version": 3
   },
   "file_extension": ".py",
   "mimetype": "text/x-python",
   "name": "python",
   "nbconvert_exporter": "python",
   "pygments_lexer": "ipython3",
   "version": "3.9.7"
  }
 },
 "nbformat": 4,
 "nbformat_minor": 4
}
