{
 "cells": [
  {
   "cell_type": "markdown",
   "id": "cleared-maine",
   "metadata": {},
   "source": [
    "# Python DatTime module\n",
    "\n",
    "- Documentation : https://docs.python.org/fr/3.10/library/datetime.html\n",
    "- Format ISO : https://fr.wikipedia.org/wiki/ISO_8601"
   ]
  },
  {
   "cell_type": "code",
   "execution_count": 1,
   "id": "wanted-bermuda",
   "metadata": {},
   "outputs": [],
   "source": [
    "import datetime"
   ]
  },
  {
   "cell_type": "markdown",
   "id": "neural-struggle",
   "metadata": {},
   "source": [
    "## Date"
   ]
  },
  {
   "cell_type": "code",
   "execution_count": 2,
   "id": "reflected-retirement",
   "metadata": {},
   "outputs": [
    {
     "name": "stdout",
     "output_type": "stream",
     "text": [
      "2021-12-30\n"
     ]
    }
   ],
   "source": [
    "### Date du jour\n",
    "today = datetime.date.today()\n",
    "print(today)"
   ]
  },
  {
   "cell_type": "code",
   "execution_count": 3,
   "id": "alone-earth",
   "metadata": {},
   "outputs": [],
   "source": [
    "def get_week_number_for_iso_date(iso_date: str) -> int:\n",
    "    dt = datetime.date.fromisoformat(iso_date)\n",
    "    return dt.isocalendar()[1]"
   ]
  },
  {
   "cell_type": "code",
   "execution_count": 4,
   "id": "facial-prime",
   "metadata": {},
   "outputs": [
    {
     "name": "stdout",
     "output_type": "stream",
     "text": [
      "Je suis né pendant la semaine 25 de l'année 1971.\n"
     ]
    }
   ],
   "source": [
    "iso_birthday = \"1971-06-27\"\n",
    "today_week_number = get_week_number_for_iso_date(iso_birthday)\n",
    "print(f\"Je suis né pendant la semaine {today_week_number} de l'année {iso_birthday[:4]}.\")"
   ]
  },
  {
   "cell_type": "code",
   "execution_count": 5,
   "id": "floating-crazy",
   "metadata": {},
   "outputs": [
    {
     "name": "stdout",
     "output_type": "stream",
     "text": [
      "En 1971 mon anniversaire a eu lieu la semaine 25.\n",
      "En 1972 mon anniversaire a eu lieu la semaine 26.\n",
      "En 1973 mon anniversaire a eu lieu la semaine 26.\n",
      "En 1974 mon anniversaire a eu lieu la semaine 26.\n",
      "En 1975 mon anniversaire a eu lieu la semaine 26.\n",
      "En 1976 mon anniversaire a eu lieu la semaine 26.\n",
      "En 1977 mon anniversaire a eu lieu la semaine 26.\n",
      "En 1978 mon anniversaire a eu lieu la semaine 26.\n",
      "En 1979 mon anniversaire a eu lieu la semaine 26.\n",
      "En 1980 mon anniversaire a eu lieu la semaine 26.\n",
      "En 1981 mon anniversaire a eu lieu la semaine 26.\n",
      "En 1982 mon anniversaire a eu lieu la semaine 25.\n",
      "En 1983 mon anniversaire a eu lieu la semaine 26.\n",
      "En 1984 mon anniversaire a eu lieu la semaine 26.\n",
      "En 1985 mon anniversaire a eu lieu la semaine 26.\n",
      "En 1986 mon anniversaire a eu lieu la semaine 26.\n",
      "En 1987 mon anniversaire a eu lieu la semaine 26.\n",
      "En 1988 mon anniversaire a eu lieu la semaine 26.\n",
      "En 1989 mon anniversaire a eu lieu la semaine 26.\n",
      "En 1990 mon anniversaire a eu lieu la semaine 26.\n",
      "En 1991 mon anniversaire a eu lieu la semaine 26.\n",
      "En 1992 mon anniversaire a eu lieu la semaine 26.\n",
      "En 1993 mon anniversaire a eu lieu la semaine 25.\n",
      "En 1994 mon anniversaire a eu lieu la semaine 26.\n",
      "En 1995 mon anniversaire a eu lieu la semaine 26.\n",
      "En 1996 mon anniversaire a eu lieu la semaine 26.\n",
      "En 1997 mon anniversaire a eu lieu la semaine 26.\n",
      "En 1998 mon anniversaire a eu lieu la semaine 26.\n",
      "En 1999 mon anniversaire a eu lieu la semaine 25.\n",
      "En 2000 mon anniversaire a eu lieu la semaine 26.\n",
      "En 2001 mon anniversaire a eu lieu la semaine 26.\n",
      "En 2002 mon anniversaire a eu lieu la semaine 26.\n",
      "En 2003 mon anniversaire a eu lieu la semaine 26.\n",
      "En 2004 mon anniversaire a eu lieu la semaine 26.\n",
      "En 2005 mon anniversaire a eu lieu la semaine 26.\n",
      "En 2006 mon anniversaire a eu lieu la semaine 26.\n",
      "En 2007 mon anniversaire a eu lieu la semaine 26.\n",
      "En 2008 mon anniversaire a eu lieu la semaine 26.\n",
      "En 2009 mon anniversaire a eu lieu la semaine 26.\n",
      "En 2010 mon anniversaire a eu lieu la semaine 25.\n",
      "En 2011 mon anniversaire a eu lieu la semaine 26.\n",
      "En 2012 mon anniversaire a eu lieu la semaine 26.\n",
      "En 2013 mon anniversaire a eu lieu la semaine 26.\n",
      "En 2014 mon anniversaire a eu lieu la semaine 26.\n",
      "En 2015 mon anniversaire a eu lieu la semaine 26.\n",
      "En 2016 mon anniversaire a eu lieu la semaine 26.\n",
      "En 2017 mon anniversaire a eu lieu la semaine 26.\n",
      "En 2018 mon anniversaire a eu lieu la semaine 26.\n",
      "En 2019 mon anniversaire a eu lieu la semaine 26.\n",
      "En 2020 mon anniversaire a eu lieu la semaine 26.\n"
     ]
    }
   ],
   "source": [
    "current_year = datetime.date.today().year\n",
    "iso_birthday = \"1971-06-27\"\n",
    "birthday_year = int(iso_birthday[:4])\n",
    "for year in range(birthday_year, current_year):\n",
    "    iso_anniversary = iso_birthday.replace(\"1971\", str(year))\n",
    "    print(f\"En {year} mon anniversaire a eu lieu la semaine {get_week_number_for_iso_date(iso_anniversary)}.\")"
   ]
  },
  {
   "cell_type": "markdown",
   "id": "collected-professional",
   "metadata": {},
   "source": [
    "## Datetime"
   ]
  }
 ],
 "metadata": {
  "kernelspec": {
   "display_name": "Python 3 (ipykernel)",
   "language": "python",
   "name": "python3"
  },
  "language_info": {
   "codemirror_mode": {
    "name": "ipython",
    "version": 3
   },
   "file_extension": ".py",
   "mimetype": "text/x-python",
   "name": "python",
   "nbconvert_exporter": "python",
   "pygments_lexer": "ipython3",
   "version": "3.9.7"
  }
 },
 "nbformat": 4,
 "nbformat_minor": 5
}
