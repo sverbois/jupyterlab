{
 "cells": [
  {
   "cell_type": "markdown",
   "id": "adequate-therapy",
   "metadata": {},
   "source": [
    "# TinyDB\n",
    "\n",
    "- Documentation : https://tinydb.readthedocs.io"
   ]
  },
  {
   "cell_type": "code",
   "execution_count": 1,
   "id": "altered-impossible",
   "metadata": {},
   "outputs": [],
   "source": [
    "from tinydb import Query, TinyDB"
   ]
  },
  {
   "cell_type": "code",
   "execution_count": 2,
   "id": "spectacular-parallel",
   "metadata": {},
   "outputs": [],
   "source": [
    "# Créer/Ouvrir une base de donnée TinyDB\n",
    "db = TinyDB(\"101-tinydb.json\")"
   ]
  },
  {
   "cell_type": "code",
   "execution_count": 3,
   "id": "responsible-priority",
   "metadata": {},
   "outputs": [
    {
     "data": {
      "text/plain": [
       "1"
      ]
     },
     "execution_count": 3,
     "metadata": {},
     "output_type": "execute_result"
    }
   ],
   "source": [
    "# Insérer un enregistrement dans la BD\n",
    "db.insert({\"firstname\": \"Sébastien\", \"lastname\": \"Verbois\", \"children\": 3})"
   ]
  },
  {
   "cell_type": "code",
   "execution_count": 4,
   "id": "french-madness",
   "metadata": {},
   "outputs": [
    {
     "data": {
      "text/plain": [
       "2"
      ]
     },
     "execution_count": 4,
     "metadata": {},
     "output_type": "execute_result"
    }
   ],
   "source": [
    "# Insérer un second enregistrement dans la BD\n",
    "db.insert({\"firstname\": \"Gabriel\", \"lastname\": \"Verbois\", \"children\": 0})"
   ]
  },
  {
   "cell_type": "code",
   "execution_count": 5,
   "id": "extensive-payroll",
   "metadata": {},
   "outputs": [
    {
     "data": {
      "text/plain": [
       "3"
      ]
     },
     "execution_count": 5,
     "metadata": {},
     "output_type": "execute_result"
    }
   ],
   "source": [
    "# Insérer un troisième enregistrement dans la BD\n",
    "db.insert({\"firstname\": \"Alain\", \"lastname\": \"Meurant\", \"children\": 3})"
   ]
  },
  {
   "cell_type": "code",
   "execution_count": 6,
   "id": "productive-software",
   "metadata": {},
   "outputs": [
    {
     "data": {
      "text/plain": [
       "[{'firstname': 'Sébastien', 'lastname': 'Verbois', 'children': 3},\n",
       " {'firstname': 'Gabriel', 'lastname': 'Verbois', 'children': 0},\n",
       " {'firstname': 'Alain', 'lastname': 'Meurant', 'children': 3}]"
      ]
     },
     "execution_count": 6,
     "metadata": {},
     "output_type": "execute_result"
    }
   ],
   "source": [
    "# Récupérer l'ensemble des enregistrements\n",
    "db.all()"
   ]
  },
  {
   "cell_type": "code",
   "execution_count": 7,
   "id": "fresh-defense",
   "metadata": {},
   "outputs": [],
   "source": [
    "# Créer une requète pour la recherche\n",
    "User = Query()"
   ]
  },
  {
   "cell_type": "code",
   "execution_count": 8,
   "id": "alternate-custody",
   "metadata": {},
   "outputs": [
    {
     "data": {
      "text/plain": [
       "[{'firstname': 'Sébastien', 'lastname': 'Verbois', 'children': 3},\n",
       " {'firstname': 'Gabriel', 'lastname': 'Verbois', 'children': 0}]"
      ]
     },
     "execution_count": 8,
     "metadata": {},
     "output_type": "execute_result"
    }
   ],
   "source": [
    "db.search(User.lastname == \"Verbois\")"
   ]
  },
  {
   "cell_type": "code",
   "execution_count": 9,
   "id": "retired-services",
   "metadata": {},
   "outputs": [
    {
     "data": {
      "text/plain": [
       "[{'firstname': 'Gabriel', 'lastname': 'Verbois', 'children': 0}]"
      ]
     },
     "execution_count": 9,
     "metadata": {},
     "output_type": "execute_result"
    }
   ],
   "source": [
    "db.search(User.children == 0)"
   ]
  },
  {
   "cell_type": "code",
   "execution_count": 10,
   "id": "sacred-planning",
   "metadata": {},
   "outputs": [
    {
     "data": {
      "text/plain": [
       "[1]"
      ]
     },
     "execution_count": 10,
     "metadata": {},
     "output_type": "execute_result"
    }
   ],
   "source": [
    "# Modifier un enregistrement\n",
    "db.update({\"children\": 7}, User.lastname == \"Verbois\" and User.firstname == \"Sébastien\")"
   ]
  },
  {
   "cell_type": "code",
   "execution_count": 11,
   "id": "honey-chorus",
   "metadata": {},
   "outputs": [
    {
     "data": {
      "text/plain": [
       "[{'firstname': 'Sébastien', 'lastname': 'Verbois', 'children': 7},\n",
       " {'firstname': 'Gabriel', 'lastname': 'Verbois', 'children': 0},\n",
       " {'firstname': 'Alain', 'lastname': 'Meurant', 'children': 3}]"
      ]
     },
     "execution_count": 11,
     "metadata": {},
     "output_type": "execute_result"
    }
   ],
   "source": [
    "db.all()"
   ]
  },
  {
   "cell_type": "code",
   "execution_count": 12,
   "id": "horizontal-transparency",
   "metadata": {},
   "outputs": [
    {
     "data": {
      "text/plain": [
       "[2]"
      ]
     },
     "execution_count": 12,
     "metadata": {},
     "output_type": "execute_result"
    }
   ],
   "source": [
    "# Effacer un enregistrement\n",
    "db.remove(User.firstname == \"Gabriel\")"
   ]
  },
  {
   "cell_type": "code",
   "execution_count": 13,
   "id": "distinct-bristol",
   "metadata": {},
   "outputs": [
    {
     "data": {
      "text/plain": [
       "[{'firstname': 'Sébastien', 'lastname': 'Verbois', 'children': 7},\n",
       " {'firstname': 'Alain', 'lastname': 'Meurant', 'children': 3}]"
      ]
     },
     "execution_count": 13,
     "metadata": {},
     "output_type": "execute_result"
    }
   ],
   "source": [
    "db.all()"
   ]
  },
  {
   "cell_type": "code",
   "execution_count": 14,
   "id": "paperback-pontiac",
   "metadata": {},
   "outputs": [],
   "source": [
    "# Effacer l'ensemble des données\n",
    "db.truncate()"
   ]
  },
  {
   "cell_type": "code",
   "execution_count": 15,
   "id": "biological-electron",
   "metadata": {},
   "outputs": [
    {
     "data": {
      "text/plain": [
       "[]"
      ]
     },
     "execution_count": 15,
     "metadata": {},
     "output_type": "execute_result"
    }
   ],
   "source": [
    "db.all()"
   ]
  },
  {
   "cell_type": "code",
   "execution_count": null,
   "id": "hundred-tournament",
   "metadata": {},
   "outputs": [],
   "source": []
  }
 ],
 "metadata": {
  "kernelspec": {
   "display_name": "Python 3 (ipykernel)",
   "language": "python",
   "name": "python3"
  },
  "language_info": {
   "codemirror_mode": {
    "name": "ipython",
    "version": 3
   },
   "file_extension": ".py",
   "mimetype": "text/x-python",
   "name": "python",
   "nbconvert_exporter": "python",
   "pygments_lexer": "ipython3",
   "version": "3.9.7"
  }
 },
 "nbformat": 4,
 "nbformat_minor": 5
}
