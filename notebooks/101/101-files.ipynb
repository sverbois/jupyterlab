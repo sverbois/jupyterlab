{
 "cells": [
  {
   "cell_type": "markdown",
   "metadata": {},
   "source": [
    "# Files in Python"
   ]
  },
  {
   "cell_type": "markdown",
   "metadata": {},
   "source": [
    "## Documentation\n",
    "\n",
    "- https://www.w3schools.com/python/python_file_handling.asp\n",
    "- https://docs.python.org/fr/3.8/tutorial/inputoutput.html#reading-and-writing-files"
   ]
  },
  {
   "cell_type": "markdown",
   "metadata": {},
   "source": [
    "## Read files"
   ]
  },
  {
   "cell_type": "markdown",
   "metadata": {},
   "source": [
    "### Read an entire file"
   ]
  },
  {
   "cell_type": "code",
   "execution_count": 1,
   "metadata": {},
   "outputs": [
    {
     "name": "stdout",
     "output_type": "stream",
     "text": [
      "Première ligne de mon fichier\n",
      "Seconde ligne de mon fichier\n",
      "Troisième ligne de mon fichier\n",
      "\n"
     ]
    }
   ],
   "source": [
    "f = open(\"101-files-input.txt\")  # identique à open(\"data.text\", \"rt\")\n",
    "file_content = f.read()\n",
    "print(file_content)\n",
    "f.close()  # ne pas oublier de fermer le fichier"
   ]
  },
  {
   "cell_type": "code",
   "execution_count": 2,
   "metadata": {},
   "outputs": [
    {
     "name": "stdout",
     "output_type": "stream",
     "text": [
      "Première ligne de mon fichier\n",
      "Seconde ligne de mon fichier\n",
      "Troisième ligne de mon fichier\n",
      "\n"
     ]
    }
   ],
   "source": [
    "with open(\"101-files-input.txt\") as f:  # close est appelé automatiquement\n",
    "    print(f.read())"
   ]
  },
  {
   "cell_type": "markdown",
   "metadata": {},
   "source": [
    "### Read and Seek methods"
   ]
  },
  {
   "cell_type": "code",
   "execution_count": 3,
   "metadata": {},
   "outputs": [
    {
     "name": "stdout",
     "output_type": "stream",
     "text": [
      "Prem\n",
      "ière\n",
      "Prem\n",
      "lign\n"
     ]
    }
   ],
   "source": [
    "with open(\"101-files-input.txt\") as f:\n",
    "    print(f.read(4))\n",
    "    print(f.read(4))\n",
    "    f.seek(0)\n",
    "    print(f.read(4))\n",
    "    f.seek(10)\n",
    "    print(f.read(4))"
   ]
  },
  {
   "cell_type": "markdown",
   "metadata": {},
   "source": [
    "### Read a file line by line"
   ]
  },
  {
   "cell_type": "code",
   "execution_count": 4,
   "metadata": {},
   "outputs": [
    {
     "name": "stdout",
     "output_type": "stream",
     "text": [
      "'Première ligne de mon fichier\\n'\n",
      "Première ligne de mon fichier\n",
      "\n",
      "'Seconde ligne de mon fichier\\n'\n",
      "Seconde ligne de mon fichier\n",
      "\n",
      "'Troisième ligne de mon fichier\\n'\n",
      "Troisième ligne de mon fichier\n",
      "\n"
     ]
    }
   ],
   "source": [
    "with open(\"101-files-input.txt\", mode=\"rt\", encoding=\"utf-8\") as f:\n",
    "    for row in f:\n",
    "        print(repr(row))\n",
    "        print(row)"
   ]
  },
  {
   "cell_type": "markdown",
   "metadata": {},
   "source": [
    "## Create a file"
   ]
  },
  {
   "cell_type": "markdown",
   "metadata": {},
   "source": [
    "### Text file"
   ]
  },
  {
   "cell_type": "code",
   "execution_count": 5,
   "metadata": {},
   "outputs": [],
   "source": [
    "with open(\"101-files-output.txt\", mode=\"wt\", encoding=\"utf-8\") as f:\n",
    "    f.write(\"Bonjour \")\n",
    "    f.write(\"tout le monde !\")\n",
    "    f.write(\"\\n\")\n",
    "    f.write(\"Bonjour Sébastien !\")"
   ]
  },
  {
   "cell_type": "markdown",
   "metadata": {},
   "source": [
    "### Binary file"
   ]
  },
  {
   "cell_type": "code",
   "execution_count": 6,
   "metadata": {},
   "outputs": [],
   "source": [
    "import requests\n",
    "\n",
    "response = requests.get(\"https://www.python.org/static/community_logos/python-logo-master-v3-TM.png\")\n",
    "with open(\"101-files-output.png\", mode=\"wb\") as f:\n",
    "    f.write(response.content)"
   ]
  },
  {
   "cell_type": "markdown",
   "metadata": {},
   "source": [
    "## Overwrite a file"
   ]
  },
  {
   "cell_type": "code",
   "execution_count": 7,
   "metadata": {},
   "outputs": [],
   "source": [
    "with open(\"101-files-output.txt\", mode=\"wt\", encoding=\"utf-8\") as f:\n",
    "    f.write(\"Bonjour Alain !\")"
   ]
  },
  {
   "cell_type": "markdown",
   "metadata": {},
   "source": [
    "## Throw exception if the file exists"
   ]
  },
  {
   "cell_type": "code",
   "execution_count": 8,
   "metadata": {},
   "outputs": [
    {
     "name": "stdout",
     "output_type": "stream",
     "text": [
      "Le fichier '101-files-output.txt' existe déjà.\n"
     ]
    }
   ],
   "source": [
    "try:\n",
    "    with open(\"101-files-output.txt\", mode=\"xt\", encoding=\"utf-8\") as f:\n",
    "        f.write(\"Bonjour les autres !\")\n",
    "except FileExistsError:\n",
    "    print(\"Le fichier '101-files-output.txt' existe déjà.\")"
   ]
  },
  {
   "cell_type": "markdown",
   "metadata": {},
   "source": [
    "## Append to a file"
   ]
  },
  {
   "cell_type": "code",
   "execution_count": 9,
   "metadata": {},
   "outputs": [],
   "source": [
    "with open(\"101-files-output.txt\", mode=\"at\", encoding=\"utf-8\") as f:\n",
    "    f.write(\"\\nBonjour François !\")"
   ]
  },
  {
   "cell_type": "markdown",
   "metadata": {},
   "source": [
    "## Delete a file"
   ]
  },
  {
   "cell_type": "code",
   "execution_count": 10,
   "metadata": {},
   "outputs": [],
   "source": [
    "import os\n",
    "\n",
    "file_name = \"101-files-output.txt\"\n",
    "if os.path.exists(file_name):\n",
    "    os.remove(file_name)\n",
    "else:\n",
    "    print(f\"The file {file_name} does not exist.\")"
   ]
  },
  {
   "cell_type": "code",
   "execution_count": null,
   "metadata": {},
   "outputs": [],
   "source": []
  }
 ],
 "metadata": {
  "kernelspec": {
   "display_name": "Python 3 (ipykernel)",
   "language": "python",
   "name": "python3"
  },
  "language_info": {
   "codemirror_mode": {
    "name": "ipython",
    "version": 3
   },
   "file_extension": ".py",
   "mimetype": "text/x-python",
   "name": "python",
   "nbconvert_exporter": "python",
   "pygments_lexer": "ipython3",
   "version": "3.9.7"
  },
  "toc-autonumbering": true,
  "toc-showcode": false,
  "toc-showmarkdowntxt": false
 },
 "nbformat": 4,
 "nbformat_minor": 4
}
