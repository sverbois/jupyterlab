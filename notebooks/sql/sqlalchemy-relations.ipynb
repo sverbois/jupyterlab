{
 "cells": [
  {
   "cell_type": "code",
   "execution_count": 1,
   "id": "cosmetic-scotland",
   "metadata": {},
   "outputs": [],
   "source": [
    "from sqlalchemy import Boolean, Column, Float, ForeignKey, Integer, MetaData, String, Table, create_engine, select\n",
    "from sqlalchemy.ext.declarative import declarative_base\n",
    "from sqlalchemy.orm import Session, relationship"
   ]
  },
  {
   "cell_type": "code",
   "execution_count": 2,
   "id": "focal-choir",
   "metadata": {},
   "outputs": [],
   "source": [
    "engine = create_engine(\"sqlite+pysqlite:///./relations.sqlite\", echo=False, future=True)"
   ]
  },
  {
   "cell_type": "code",
   "execution_count": 3,
   "id": "earned-spank",
   "metadata": {},
   "outputs": [],
   "source": [
    "metadata = MetaData()\n",
    "\n",
    "books_table = Table(\n",
    "    \"books\",\n",
    "    metadata,\n",
    "    Column(\"id\", Integer, primary_key=True),\n",
    "    Column(\"title\", String),\n",
    "    Column(\"isbn\", String, unique=True, nullable=False),\n",
    ")\n",
    "\n",
    "copies_table = Table(\n",
    "    \"copies\",\n",
    "    metadata,\n",
    "    Column(\"id\", Integer, primary_key=True),\n",
    "    Column(\"status\", String),  # (bad, good, excellent)\n",
    "    Column(\"book_id\", ForeignKey(\"books.id\"), nullable=False),\n",
    ")\n",
    "\n",
    "authors_table = Table(\n",
    "    \"authors\",\n",
    "    metadata,\n",
    "    Column(\"id\", Integer, primary_key=True),\n",
    "    Column(\"firstname\", String),\n",
    "    Column(\"lastname\", String),\n",
    ")\n",
    "\n",
    "books_authors_table = Table(\n",
    "    \"books_authors\",\n",
    "    metadata,\n",
    "    Column(\"book_id\", Integer, ForeignKey(\"books.id\")),\n",
    "    Column(\"author_id\", Integer, ForeignKey(\"authors.id\")),\n",
    ")\n",
    "\n",
    "metadata.create_all(bind=engine)"
   ]
  },
  {
   "cell_type": "code",
   "execution_count": 4,
   "id": "refined-albert",
   "metadata": {},
   "outputs": [],
   "source": [
    "Base = declarative_base()\n",
    "\n",
    "\n",
    "class Book(Base):\n",
    "    __table__ = books_table\n",
    "\n",
    "    copies = relationship(\"Copy\", back_populates=\"book\", cascade=\"all, delete\")\n",
    "    authors = relationship(\"Author\", back_populates=\"books\", secondary=books_authors_table)\n",
    "\n",
    "    def __repr__(self):\n",
    "        return f\"<Book {self.id}>\"\n",
    "\n",
    "\n",
    "class Copy(Base):\n",
    "    __table__ = copies_table\n",
    "\n",
    "    book = relationship(\"Book\", back_populates=\"copies\")\n",
    "\n",
    "    def __repr__(self):\n",
    "        return f\"<Copy {self.id}>\"\n",
    "\n",
    "    @property\n",
    "    def title(self):\n",
    "        return self.book.title\n",
    "\n",
    "\n",
    "class Author(Base):\n",
    "    __table__ = authors_table\n",
    "\n",
    "    books = relationship(\"Book\", back_populates=\"authors\", secondary=books_authors_table)\n",
    "\n",
    "    def __repr__(self):\n",
    "        return f\"<Author {self.id}>\""
   ]
  },
  {
   "cell_type": "code",
   "execution_count": 5,
   "id": "aggregate-category",
   "metadata": {},
   "outputs": [],
   "source": [
    "session = Session(bind=engine)"
   ]
  },
  {
   "cell_type": "code",
   "execution_count": 6,
   "id": "entitled-threat",
   "metadata": {},
   "outputs": [],
   "source": [
    "book1 = Book(title=\"Book 1\", isbn=\"111\")\n",
    "session.add(book1)\n",
    "session.commit()"
   ]
  },
  {
   "cell_type": "code",
   "execution_count": 7,
   "id": "banner-hamburg",
   "metadata": {},
   "outputs": [],
   "source": [
    "book2 = Book(title=\"Book 2\", isbn=\"222\")\n",
    "session.add(book2)\n",
    "session.commit()"
   ]
  },
  {
   "cell_type": "code",
   "execution_count": 8,
   "id": "certain-length",
   "metadata": {},
   "outputs": [],
   "source": [
    "book1_copy1 = Copy(status=\"bad\", book_id=1)\n",
    "session.add(book1_copy1)\n",
    "book1_copy2 = Copy(status=\"good\", book_id=1)\n",
    "session.add(book1_copy2)\n",
    "session.commit()"
   ]
  },
  {
   "cell_type": "code",
   "execution_count": 9,
   "id": "supreme-development",
   "metadata": {},
   "outputs": [],
   "source": [
    "book2_copy1 = Copy(status=\"excellent\", book_id=2)\n",
    "session.add(book2_copy1)\n",
    "book2_copy2 = Copy(status=\"excellent\", book=book2)\n",
    "session.add(book2_copy2)\n",
    "session.commit()"
   ]
  },
  {
   "cell_type": "code",
   "execution_count": 10,
   "id": "front-ground",
   "metadata": {},
   "outputs": [
    {
     "name": "stdout",
     "output_type": "stream",
     "text": [
      "1 bad\n",
      "2 good\n"
     ]
    }
   ],
   "source": [
    "for c in book1.copies:\n",
    "    print(c.id, c.status)"
   ]
  },
  {
   "cell_type": "code",
   "execution_count": 11,
   "id": "academic-ladder",
   "metadata": {},
   "outputs": [],
   "source": [
    "author1 = Author(firstname=\"Sébastien\", lastname=\"Verbois\")\n",
    "session.add(author1)\n",
    "author2 = Author(firstname=\"Alain\", lastname=\"Meurant\")\n",
    "session.add(author2)\n",
    "session.commit()"
   ]
  },
  {
   "cell_type": "code",
   "execution_count": 12,
   "id": "greatest-picking",
   "metadata": {},
   "outputs": [],
   "source": [
    "book1 = session.get(Book, 1)\n",
    "book1.authors.append(author1)\n",
    "session.commit()"
   ]
  },
  {
   "cell_type": "code",
   "execution_count": 13,
   "id": "manufactured-short",
   "metadata": {},
   "outputs": [],
   "source": [
    "statement = select(Book).where(Book.isbn == \"222\")\n",
    "book2 = session.execute(statement).scalars().one()\n",
    "book2.authors.append(author1)\n",
    "book2.authors.append(author2)\n",
    "session.commit()"
   ]
  },
  {
   "cell_type": "code",
   "execution_count": 14,
   "id": "continental-hygiene",
   "metadata": {},
   "outputs": [
    {
     "data": {
      "text/plain": [
       "[(<Book 1>,), (<Book 2>,)]"
      ]
     },
     "execution_count": 14,
     "metadata": {},
     "output_type": "execute_result"
    }
   ],
   "source": [
    "statement = select(Book)  # .where(books_table.c.isbn == \"222\")\n",
    "session.execute(statement).all()"
   ]
  },
  {
   "cell_type": "code",
   "execution_count": 15,
   "id": "standard-scheduling",
   "metadata": {},
   "outputs": [],
   "source": [
    "book2 = session.get(Book, 2)\n",
    "session.delete(book2)\n",
    "session.commit()"
   ]
  },
  {
   "cell_type": "code",
   "execution_count": 16,
   "id": "double-substitute",
   "metadata": {},
   "outputs": [],
   "source": [
    "book3 = Book(title=\"Book 3\", isbn=\"333\")\n",
    "author3 = Author(firstname=\"Jean\", lastname=\"Dupont\")\n",
    "book3.authors.append(author3)\n",
    "session.add(book3)\n",
    "session.commit()"
   ]
  },
  {
   "cell_type": "code",
   "execution_count": 17,
   "id": "rapid-monday",
   "metadata": {},
   "outputs": [
    {
     "data": {
      "text/plain": [
       "[(<Book 1>, <Author 1>), (<Book 2>, <Author 3>)]"
      ]
     },
     "execution_count": 17,
     "metadata": {},
     "output_type": "execute_result"
    }
   ],
   "source": [
    "statement = select(Book, Author).join(Book.authors)\n",
    "session.execute(statement).all()"
   ]
  }
 ],
 "metadata": {
  "kernelspec": {
   "display_name": "Python 3 (ipykernel)",
   "language": "python",
   "name": "python3"
  },
  "language_info": {
   "codemirror_mode": {
    "name": "ipython",
    "version": 3
   },
   "file_extension": ".py",
   "mimetype": "text/x-python",
   "name": "python",
   "nbconvert_exporter": "python",
   "pygments_lexer": "ipython3",
   "version": "3.9.7"
  }
 },
 "nbformat": 4,
 "nbformat_minor": 5
}
