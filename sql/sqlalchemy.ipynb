{
 "cells": [
  {
   "cell_type": "markdown",
   "metadata": {},
   "source": [
    "# SQLAlchemy\n",
    "\n",
    "- Documentation : https://docs.sqlalchemy.org/en/14/tutorial/index.html"
   ]
  },
  {
   "cell_type": "code",
   "execution_count": 1,
   "metadata": {},
   "outputs": [
    {
     "data": {
      "text/plain": [
       "'1.4.15'"
      ]
     },
     "execution_count": 1,
     "metadata": {},
     "output_type": "execute_result"
    }
   ],
   "source": [
    "import sqlalchemy\n",
    "sqlalchemy.__version__ "
   ]
  },
  {
   "cell_type": "code",
   "execution_count": 2,
   "metadata": {},
   "outputs": [],
   "source": [
    "### Engine\n",
    "\n",
    "from sqlalchemy import create_engine\n",
    "\n",
    "engine = create_engine(\"sqlite+pysqlite:///./books.sqlite\", echo=False, future=True)  # 'future=True' pour utiliser la nouvelle version"
   ]
  },
  {
   "cell_type": "code",
   "execution_count": 3,
   "metadata": {},
   "outputs": [],
   "source": [
    "### Tables and ORM\n",
    "\n",
    "from sqlalchemy.ext.declarative import declarative_base\n",
    "from sqlalchemy import Column, Integer, String\n",
    "\n",
    "Base = declarative_base()\n",
    "\n",
    "class Book(Base):\n",
    "    __tablename__ = 'books'\n",
    "    id = Column(Integer, primary_key=True)\n",
    "    title = Column(String)\n",
    "    isbn = Column(String)\n",
    "    \n",
    "    def __str__(self):\n",
    "        return f\"{self.id} / {self.title} / {self.isbn}\""
   ]
  },
  {
   "cell_type": "code",
   "execution_count": 4,
   "metadata": {},
   "outputs": [],
   "source": [
    "### Create tables\n",
    "\n",
    "Base.metadata.create_all(bind=engine)"
   ]
  },
  {
   "cell_type": "code",
   "execution_count": 5,
   "metadata": {},
   "outputs": [],
   "source": [
    "### Create session\n",
    "\n",
    "from sqlalchemy.orm import Session\n",
    "\n",
    "session = Session(bind=engine)"
   ]
  },
  {
   "cell_type": "code",
   "execution_count": 6,
   "metadata": {},
   "outputs": [
    {
     "name": "stdout",
     "output_type": "stream",
     "text": [
      "None\n",
      "1\n"
     ]
    }
   ],
   "source": [
    "### Create/Add a book\n",
    "\n",
    "book = Book(title=\"Apprendre à programmer dans l'écosystème Python\", isbn=\"2100809148\")\n",
    "session.add(book)\n",
    "print(book.id)\n",
    "session.commit()\n",
    "print(book.id)"
   ]
  },
  {
   "cell_type": "code",
   "execution_count": 7,
   "metadata": {},
   "outputs": [],
   "source": [
    "### Create/add other books\n",
    "\n",
    "data = [\n",
    "    {\"title\": \"Un joli titre\", \"isbn\": \"111\"},\n",
    "    {\"title\": \"Un autre titre\", \"isbn\": \"222\"},\n",
    "]\n",
    "for item in data:\n",
    "    book = Book(**item)\n",
    "    session.add(book)\n",
    "session.commit()"
   ]
  },
  {
   "cell_type": "code",
   "execution_count": 8,
   "metadata": {},
   "outputs": [
    {
     "name": "stdout",
     "output_type": "stream",
     "text": [
      "1 / 2100809148 / Apprendre à programmer dans l'écosystème Python\n",
      "2 / 111 / Un joli titre\n",
      "3 / 222 / Un autre titre\n"
     ]
    }
   ],
   "source": [
    "### Read/Get all books\n",
    "\n",
    "books = session.query(Book).all()\n",
    "for book in books:\n",
    "    print(book.id, book.isbn, book.title, sep=' / ')"
   ]
  },
  {
   "cell_type": "code",
   "execution_count": 9,
   "metadata": {},
   "outputs": [
    {
     "name": "stdout",
     "output_type": "stream",
     "text": [
      "1 / 2100809148 / Apprendre à programmer dans l'écosystème Python\n",
      "1 / Apprendre à programmer dans l'écosystème Python / 2100809148\n"
     ]
    }
   ],
   "source": [
    "### Read/Get a book\n",
    "\n",
    "book = session.query(Book).filter(Book.isbn == \"2100809148\").first()\n",
    "print(book.id, book.isbn, book.title, sep=' / ')\n",
    "print(book)"
   ]
  },
  {
   "cell_type": "code",
   "execution_count": 10,
   "metadata": {},
   "outputs": [
    {
     "name": "stdout",
     "output_type": "stream",
     "text": [
      "1 / Apprendre à programmer dans l'écosystème Python / 2100809148\n"
     ]
    }
   ],
   "source": [
    "### Read/Get a book by primary_key\n",
    "book = session.get(Book, 1)\n",
    "print(book)"
   ]
  },
  {
   "cell_type": "code",
   "execution_count": 11,
   "metadata": {},
   "outputs": [
    {
     "name": "stdout",
     "output_type": "stream",
     "text": [
      "2 / Un petit titre modifié / 111\n"
     ]
    }
   ],
   "source": [
    "### Update a book\n",
    "\n",
    "book = session.query(Book).filter(Book.isbn == \"111\").first()\n",
    "book.title = \"Un petit titre modifié\"\n",
    "session.commit()\n",
    "print(book)"
   ]
  },
  {
   "cell_type": "code",
   "execution_count": 12,
   "metadata": {},
   "outputs": [],
   "source": [
    "### Delete a book\n",
    "\n",
    "book = session.get(Book, 1)\n",
    "if book is not None:\n",
    "    session.delete(book)\n",
    "    session.commit()"
   ]
  },
  {
   "cell_type": "code",
   "execution_count": 13,
   "metadata": {},
   "outputs": [],
   "source": [
    "session.close()"
   ]
  }
 ],
 "metadata": {
  "kernelspec": {
   "display_name": "Python 3",
   "language": "python",
   "name": "python3"
  },
  "language_info": {
   "codemirror_mode": {
    "name": "ipython",
    "version": 3
   },
   "file_extension": ".py",
   "mimetype": "text/x-python",
   "name": "python",
   "nbconvert_exporter": "python",
   "pygments_lexer": "ipython3",
   "version": "3.8.7"
  }
 },
 "nbformat": 4,
 "nbformat_minor": 4
}
